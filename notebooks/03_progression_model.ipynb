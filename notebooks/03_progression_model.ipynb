# 03_progression_model.ipynb

import pandas as pd
from sklearn.model_selection import train_test_split
from sklearn.ensemble import RandomForestRegressor
from sklearn.metrics import mean_squared_error, r2_score

# Load cleaned data
df = pd.read_csv('../data/cleaned_duchenne_data.csv')

# Define features and target
features = ['age_at_visit', 'visit_month', 'walk_distance_6min', 
            'steroid_use_encoded', 'mutation_type_encoded']
target = 'NSAA_score'

X = df[features]
y = df[target]

# Train-test split
X_train, X_test, y_train, y_test = train_test_split(X, y, test_size=0.2, random_state=42)

# Model training
model = RandomForestRegressor(n_estimators=100, random_state=42)
model.fit(X_train, y_train)

# Predictions
y_pred = model.predict(X_test)

# Evaluation
mse = mean_squared_error(y_test, y_pred)
r2 = r2_score(y_test, y_pred)

print(f"Mean Squared Error: {mse:.2f}")
print(f"R² Score: {r2:.2f}")
