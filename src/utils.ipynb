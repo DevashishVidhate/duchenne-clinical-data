{
  "nbformat": 4,
  "nbformat_minor": 0,
  "metadata": {
    "colab": {
      "provenance": [],
      "gpuType": "T4"
    },
    "kernelspec": {
      "name": "python3",
      "display_name": "Python 3"
    },
    "language_info": {
      "name": "python"
    },
    "accelerator": "GPU"
  },
  "cells": [
    {
      "cell_type": "code",
      "source": [
        "# src/utils.py\n",
        "\n",
        "import pandas as pd\n",
        "from sklearn.preprocessing import LabelEncoder\n",
        "from sklearn.metrics import mean_squared_error, r2_score\n",
        "\n",
        "def load_data(filepath: str) -> pd.DataFrame:\n",
        "    \"\"\"Load CSV data from file path.\"\"\"\n",
        "    return pd.read_csv(filepath)\n",
        "\n",
        "def encode_categorical(df: pd.DataFrame, columns: list) -> pd.DataFrame:\n",
        "    \"\"\"Label encode specified categorical columns.\"\"\"\n",
        "    encoders = {}\n",
        "    for col in columns:\n",
        "        le = LabelEncoder()\n",
        "        df[col + \"_encoded\"] = le.fit_transform(df[col])\n",
        "        encoders[col] = le\n",
        "    return df, encoders\n",
        "\n",
        "def evaluate_model(y_true, y_pred):\n",
        "    \"\"\"Return evaluation metrics.\"\"\"\n",
        "    mse = mean_squared_error(y_true, y_pred)\n",
        "    r2 = r2_score(y_true, y_pred)\n",
        "    return {\"mse\": mse, \"r2\": r2}\n"
      ],
      "metadata": {
        "id": "LtSHek7TFN-T"
      },
      "execution_count": null,
      "outputs": []
    },
    {
      "cell_type": "code",
      "source": [],
      "metadata": {
        "id": "Z660tECIbpok"
      },
      "execution_count": null,
      "outputs": []
    },
    {
      "cell_type": "code",
      "source": [],
      "metadata": {
        "id": "g4DQLqRMbplC"
      },
      "execution_count": null,
      "outputs": []
    },
    {
      "cell_type": "code",
      "source": [],
      "metadata": {
        "id": "c7BtMfGSbpXS"
      },
      "execution_count": null,
      "outputs": []
    },
    {
      "cell_type": "code",
      "source": [],
      "metadata": {
        "id": "uM7CgJ4Cbviv"
      },
      "execution_count": null,
      "outputs": []
    },
    {
      "cell_type": "code",
      "source": [],
      "metadata": {
        "id": "w2BmR-c7pvLX"
      },
      "execution_count": null,
      "outputs": []
    },
    {
      "cell_type": "code",
      "source": [],
      "metadata": {
        "id": "QOJ7oX2UqPaA"
      },
      "execution_count": null,
      "outputs": []
    }
  ]
}