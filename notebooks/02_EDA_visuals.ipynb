{
  "nbformat": 4,
  "nbformat_minor": 0,
  "metadata": {
    "colab": {
      "provenance": [],
      "gpuType": "T4"
    },
    "kernelspec": {
      "name": "python3",
      "display_name": "Python 3"
    },
    "language_info": {
      "name": "python"
    },
    "accelerator": "GPU"
  },
  "cells": [
    {
      "cell_type": "code",
      "source": [
        "# 02_EDA_visuals.ipynb\n",
        "\n",
        "import pandas as pd\n",
        "import matplotlib.pyplot as plt\n",
        "import seaborn as sns\n",
        "\n",
        "# Load cleaned data\n",
        "df = pd.read_csv('../data/cleaned_duchenne_data.csv')\n",
        "\n",
        "# Distribution of NSAA scores\n",
        "plt.figure(figsize=(8,5))\n",
        "sns.histplot(df['NSAA_score'], kde=True)\n",
        "plt.title('Distribution of NSAA Scores')\n",
        "plt.xlabel('NSAA Score')\n",
        "plt.ylabel('Frequency')\n",
        "plt.show()\n",
        "\n",
        "# Walk distance by steroid use\n",
        "plt.figure(figsize=(8,5))\n",
        "sns.boxplot(x='steroid_use', y='walk_distance_6min', data=df)\n",
        "plt.title('6-Min Walk Distance by Steroid Use')\n",
        "plt.xlabel('Steroid Use')\n",
        "plt.ylabel('Walk Distance (meters)')\n",
        "plt.show()\n",
        "\n",
        "# NSAA progression by visit month\n",
        "plt.figure(figsize=(8,5))\n",
        "sns.lineplot(data=df, x='visit_month', y='NSAA_score', ci=None)\n",
        "plt.title('Average NSAA Score Over Time')\n",
        "plt.xlabel('Visit Month')\n",
        "plt.ylabel('NSAA Score')\n",
        "plt.show()\n"
      ],
      "metadata": {
        "id": "LtSHek7TFN-T"
      },
      "execution_count": null,
      "outputs": []
    },
    {
      "cell_type": "code",
      "source": [],
      "metadata": {
        "id": "Z660tECIbpok"
      },
      "execution_count": null,
      "outputs": []
    },
    {
      "cell_type": "code",
      "source": [],
      "metadata": {
        "id": "g4DQLqRMbplC"
      },
      "execution_count": null,
      "outputs": []
    },
    {
      "cell_type": "code",
      "source": [],
      "metadata": {
        "id": "c7BtMfGSbpXS"
      },
      "execution_count": null,
      "outputs": []
    },
    {
      "cell_type": "code",
      "source": [],
      "metadata": {
        "id": "uM7CgJ4Cbviv"
      },
      "execution_count": null,
      "outputs": []
    },
    {
      "cell_type": "code",
      "source": [],
      "metadata": {
        "id": "w2BmR-c7pvLX"
      },
      "execution_count": null,
      "outputs": []
    },
    {
      "cell_type": "code",
      "source": [],
      "metadata": {
        "id": "QOJ7oX2UqPaA"
      },
      "execution_count": null,
      "outputs": []
    }
  ]
}