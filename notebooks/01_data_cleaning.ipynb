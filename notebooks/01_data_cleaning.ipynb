{
  "nbformat": 4,
  "nbformat_minor": 0,
  "metadata": {
    "colab": {
      "provenance": [],
      "gpuType": "T4"
    },
    "kernelspec": {
      "name": "python3",
      "display_name": "Python 3"
    },
    "language_info": {
      "name": "python"
    },
    "accelerator": "GPU"
  },
  "cells": [
    {
      "cell_type": "code",
      "source": [
        "# 01_data_cleaning.ipynb\n",
        "\n",
        "import pandas as pd\n",
        "from sklearn.preprocessing import LabelEncoder\n",
        "\n",
        "# Load the dataset\n",
        "df = pd.read_csv('../data/synthetic_duchenne_data.csv')\n",
        "\n",
        "# Inspect the dataset\n",
        "print(df.info())\n",
        "print(df.describe())\n",
        "print(df.head())\n",
        "\n",
        "# Fill missing values if needed (we don't expect any, but good practice)\n",
        "df = df.dropna()\n",
        "\n",
        "# Encode categorical variables\n",
        "le_steroid = LabelEncoder()\n",
        "df['steroid_use_encoded'] = le_steroid.fit_transform(df['steroid_use'])\n",
        "\n",
        "le_mutation = LabelEncoder()\n",
        "df['mutation_type_encoded'] = le_mutation.fit_transform(df['mutation_type'])\n",
        "\n",
        "# Save cleaned data\n",
        "df.to_csv('../data/cleaned_duchenne_data.csv', index=False)\n",
        "\n",
        "print(\"Data cleaning complete. Encoded and saved cleaned dataset.\")\n"
      ],
      "metadata": {
        "id": "LtSHek7TFN-T"
      },
      "execution_count": null,
      "outputs": []
    },
    {
      "cell_type": "code",
      "source": [],
      "metadata": {
        "id": "Z660tECIbpok"
      },
      "execution_count": null,
      "outputs": []
    },
    {
      "cell_type": "code",
      "source": [],
      "metadata": {
        "id": "g4DQLqRMbplC"
      },
      "execution_count": null,
      "outputs": []
    },
    {
      "cell_type": "code",
      "source": [],
      "metadata": {
        "id": "c7BtMfGSbpXS"
      },
      "execution_count": null,
      "outputs": []
    },
    {
      "cell_type": "code",
      "source": [],
      "metadata": {
        "id": "uM7CgJ4Cbviv"
      },
      "execution_count": null,
      "outputs": []
    },
    {
      "cell_type": "code",
      "source": [],
      "metadata": {
        "id": "w2BmR-c7pvLX"
      },
      "execution_count": null,
      "outputs": []
    },
    {
      "cell_type": "code",
      "source": [],
      "metadata": {
        "id": "QOJ7oX2UqPaA"
      },
      "execution_count": null,
      "outputs": []
    }
  ]
}