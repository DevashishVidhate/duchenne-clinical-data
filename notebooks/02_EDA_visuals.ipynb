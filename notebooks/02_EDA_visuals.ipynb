# 02_EDA_visuals.ipynb

import pandas as pd
import matplotlib.pyplot as plt
import seaborn as sns

# Load cleaned data
df = pd.read_csv('../data/cleaned_duchenne_data.csv')

# Distribution of NSAA scores
plt.figure(figsize=(8,5))
sns.histplot(df['NSAA_score'], kde=True)
plt.title('Distribution of NSAA Scores')
plt.xlabel('NSAA Score')
plt.ylabel('Frequency')
plt.show()

# Walk distance by steroid use
plt.figure(figsize=(8,5))
sns.boxplot(x='steroid_use', y='walk_distance_6min', data=df)
plt.title('6-Min Walk Distance by Steroid Use')
plt.xlabel('Steroid Use')
plt.ylabel('Walk Distance (meters)')
plt.show()

# NSAA progression by visit month
plt.figure(figsize=(8,5))
sns.lineplot(data=df, x='visit_month', y='NSAA_score', ci=None)
plt.title('Average NSAA Score Over Time')
plt.xlabel('Visit Month')
plt.ylabel('NSAA Score')
plt.show()
