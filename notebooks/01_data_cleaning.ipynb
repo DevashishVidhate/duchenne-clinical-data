# 01_data_cleaning.ipynb

import pandas as pd
from sklearn.preprocessing import LabelEncoder

# Load the dataset
df = pd.read_csv('../data/synthetic_duchenne_data.csv')

# Inspect the dataset
print(df.info())
print(df.describe())
print(df.head())

# Fill missing values if needed (we don't expect any, but good practice)
df = df.dropna()

# Encode categorical variables
le_steroid = LabelEncoder()
df['steroid_use_encoded'] = le_steroid.fit_transform(df['steroid_use'])

le_mutation = LabelEncoder()
df['mutation_type_encoded'] = le_mutation.fit_transform(df['mutation_type'])

# Save cleaned data
df.to_csv('../data/cleaned_duchenne_data.csv', index=False)

print("Data cleaning complete. Encoded and saved cleaned dataset.")
