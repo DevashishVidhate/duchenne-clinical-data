{
  "nbformat": 4,
  "nbformat_minor": 0,
  "metadata": {
    "colab": {
      "provenance": [],
      "gpuType": "T4"
    },
    "kernelspec": {
      "name": "python3",
      "display_name": "Python 3"
    },
    "language_info": {
      "name": "python"
    },
    "accelerator": "GPU"
  },
  "cells": [
    {
      "cell_type": "code",
      "source": [
        "# src/pipeline.py\n",
        "\n",
        "import pandas as pd\n",
        "from sklearn.model_selection import train_test_split\n",
        "from sklearn.ensemble import RandomForestRegressor\n",
        "from src.utils import load_data, encode_categorical, evaluate_model\n",
        "\n",
        "def run_pipeline(data_path: str):\n",
        "    # Load and clean data\n",
        "    df = load_data(data_path)\n",
        "    df.dropna(inplace=True)\n",
        "\n",
        "    # Encode categorical variables\n",
        "    categorical_columns = ['steroid_use', 'mutation_type']\n",
        "    df, _ = encode_categorical(df, categorical_columns)\n",
        "\n",
        "    # Define features and target\n",
        "    features = ['age_at_visit', 'visit_month', 'walk_distance_6min',\n",
        "                'steroid_use_encoded', 'mutation_type_encoded']\n",
        "    target = 'NSAA_score'\n",
        "    X = df[features]\n",
        "    y = df[target]\n",
        "\n",
        "    # Train-test split\n",
        "    X_train, X_test, y_train, y_test = train_test_split(X, y, test_size=0.2, random_state=42)\n",
        "\n",
        "    # Train model\n",
        "    model = RandomForestRegressor(n_estimators=100, random_state=42)\n",
        "    model.fit(X_train, y_train)\n",
        "\n",
        "    # Predict and evaluate\n",
        "    y_pred = model.predict(X_test)\n",
        "    results = evaluate_model(y_test, y_pred)\n",
        "\n",
        "    print(\"Model Evaluation:\")\n",
        "    print(f\"  Mean Squared Error: {results['mse']:.2f}\")\n",
        "    print(f\"  R² Score: {results['r2']:.2f}\")\n",
        "\n",
        "if __name__ == \"__main__\":\n",
        "    run_pipeline(\"data/cleaned_duchenne_data.csv\")\n"
      ],
      "metadata": {
        "id": "LtSHek7TFN-T"
      },
      "execution_count": null,
      "outputs": []
    },
    {
      "cell_type": "code",
      "source": [],
      "metadata": {
        "id": "Z660tECIbpok"
      },
      "execution_count": null,
      "outputs": []
    },
    {
      "cell_type": "code",
      "source": [],
      "metadata": {
        "id": "g4DQLqRMbplC"
      },
      "execution_count": null,
      "outputs": []
    },
    {
      "cell_type": "code",
      "source": [],
      "metadata": {
        "id": "c7BtMfGSbpXS"
      },
      "execution_count": null,
      "outputs": []
    },
    {
      "cell_type": "code",
      "source": [],
      "metadata": {
        "id": "uM7CgJ4Cbviv"
      },
      "execution_count": null,
      "outputs": []
    },
    {
      "cell_type": "code",
      "source": [],
      "metadata": {
        "id": "w2BmR-c7pvLX"
      },
      "execution_count": null,
      "outputs": []
    },
    {
      "cell_type": "code",
      "source": [],
      "metadata": {
        "id": "QOJ7oX2UqPaA"
      },
      "execution_count": null,
      "outputs": []
    }
  ]
}